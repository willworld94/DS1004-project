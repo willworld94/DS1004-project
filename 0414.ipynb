{
 "cells": [
  {
   "cell_type": "code",
   "execution_count": 7,
   "metadata": {
    "collapsed": true
   },
   "outputs": [],
   "source": [
    "import pandas as pd\n",
    "import numpy as np\n",
    "import os\n",
    "import warnings\n",
    "warnings.filterwarnings('ignore')\n",
    "from sklearn.feature_extraction.text import TfidfVectorizer\n",
    "import re\n",
    "from collections import defaultdict"
   ]
  },
  {
   "cell_type": "markdown",
   "metadata": {},
   "source": [
    "### Convert Dataset Name"
   ]
  },
  {
   "cell_type": "code",
   "execution_count": 8,
   "metadata": {
    "collapsed": true
   },
   "outputs": [],
   "source": [
    "def separate_name(dataset_name):\n",
    "    a = re.split('/', dataset_name)\n",
    "    a = re.findall(r\"[\\w']+|[.,!?;]\", a[-1])\n",
    "    a = a[: -2]\n",
    "    c = []\n",
    "    for i in a:\n",
    "        c += re.split(\"_\", i)\n",
    "    dataset_name = \" \".join(c)\n",
    "    return dataset_name.lower()"
   ]
  },
  {
   "cell_type": "code",
   "execution_count": 9,
   "metadata": {
    "collapsed": true
   },
   "outputs": [],
   "source": [
    "meta_df = pd.DataFrame({'Name':[], 'Cols':[]})\n",
    "i = 1\n",
    "for root, dirs, files in os.walk(\"dataset/\", topdown=False):\n",
    "    for name in files:\n",
    "        path = os.path.join(root, name)\n",
    "        ds_name = path\n",
    "        ds_name = separate_name(ds_name)\n",
    "        ds_cols = list(pd.read_csv(path).columns)\n",
    "        ds_cols = [t.lower() for t in ds_cols]\n",
    "        meta_df = meta_df.append({'Name':ds_name, 'Cols':ds_cols}, ignore_index=True)\n",
    "        i = i + 1"
   ]
  },
  {
   "cell_type": "code",
   "execution_count": 85,
   "metadata": {
    "collapsed": true
   },
   "outputs": [],
   "source": [
    "def metadata_df(data_location):\n",
    "    meta_df = pd.DataFrame({'Name':[], 'Cols':[]})\n",
    "    i = 1\n",
    "    for root, dirs, files in os.walk(data_location, topdown=False):\n",
    "        for name in files:\n",
    "            path = os.path.join(root, name)\n",
    "            ds_name = path\n",
    "            ds_name = separate_name(ds_name)\n",
    "            ds_cols = list(pd.read_csv(path).columns)\n",
    "            ds_cols = [t.lower() for t in ds_cols]\n",
    "            meta_df = meta_df.append({'Name':ds_name, 'Cols':ds_cols, 'File Name': path}, ignore_index=True)\n",
    "            i = i + 1\n",
    "    return meta_df"
   ]
  },
  {
   "cell_type": "code",
   "execution_count": 87,
   "metadata": {},
   "outputs": [],
   "source": [
    "meta_df = metadata_df('dataset/')"
   ]
  },
  {
   "cell_type": "code",
   "execution_count": 108,
   "metadata": {},
   "outputs": [
    {
     "data": {
      "text/html": [
       "<div>\n",
       "<style>\n",
       "    .dataframe thead tr:only-child th {\n",
       "        text-align: right;\n",
       "    }\n",
       "\n",
       "    .dataframe thead th {\n",
       "        text-align: left;\n",
       "    }\n",
       "\n",
       "    .dataframe tbody tr th {\n",
       "        vertical-align: top;\n",
       "    }\n",
       "</style>\n",
       "<table border=\"1\" class=\"dataframe\">\n",
       "  <thead>\n",
       "    <tr style=\"text-align: right;\">\n",
       "      <th></th>\n",
       "      <th>Cols</th>\n",
       "      <th>Name</th>\n",
       "      <th>File Name</th>\n",
       "    </tr>\n",
       "  </thead>\n",
       "  <tbody>\n",
       "    <tr>\n",
       "      <th>0</th>\n",
       "      <td>[unnamed: 0]</td>\n",
       "      <td></td>\n",
       "      <td>dataset/.DS_Store</td>\n",
       "    </tr>\n",
       "    <tr>\n",
       "      <th>1</th>\n",
       "      <td>[dbn, school name, num of sat test takers, sat...</td>\n",
       "      <td>2012 sat results</td>\n",
       "      <td>dataset/2012_SAT_Results.csv</td>\n",
       "    </tr>\n",
       "    <tr>\n",
       "      <th>2</th>\n",
       "      <td>[vendor_formal_name, vendor_dba, contact_name,...</td>\n",
       "      <td>m wbe  lbe  and ebe certified business list</td>\n",
       "      <td>dataset/M_WBE__LBE__and_EBE_Certified_Business...</td>\n",
       "    </tr>\n",
       "    <tr>\n",
       "      <th>3</th>\n",
       "      <td>[cnbio_org_name, number and street, cnadrprf_a...</td>\n",
       "      <td>lower manhattan retailers</td>\n",
       "      <td>dataset/Lower_Manhattan_Retailers.csv</td>\n",
       "    </tr>\n",
       "    <tr>\n",
       "      <th>4</th>\n",
       "      <td>[dbn, name, schoolyear, fl_percent, frl_percen...</td>\n",
       "      <td>2006   2012 school demographics and accountabi...</td>\n",
       "      <td>dataset/2006_-_2012_School_Demographics_and_Ac...</td>\n",
       "    </tr>\n",
       "    <tr>\n",
       "      <th>5</th>\n",
       "      <td>[company name, subindustry, sub subindustry, a...</td>\n",
       "      <td>times square entertainment venues</td>\n",
       "      <td>dataset/Times_Square_Entertainment_Venues.csv</td>\n",
       "    </tr>\n",
       "    <tr>\n",
       "      <th>6</th>\n",
       "      <td>[project name, project description, stimulus t...</td>\n",
       "      <td>federal stimulus data</td>\n",
       "      <td>dataset/Federal_Stimulus_Data.csv</td>\n",
       "    </tr>\n",
       "    <tr>\n",
       "      <th>7</th>\n",
       "      <td>[jurisdiction name, count participants, count ...</td>\n",
       "      <td>school district breakdowns</td>\n",
       "      <td>dataset/School_District_Breakdowns.csv</td>\n",
       "    </tr>\n",
       "    <tr>\n",
       "      <th>8</th>\n",
       "      <td>[dca license number, license type, license exp...</td>\n",
       "      <td>legally operating businesses</td>\n",
       "      <td>dataset/Legally_Operating_Businesses.csv</td>\n",
       "    </tr>\n",
       "    <tr>\n",
       "      <th>9</th>\n",
       "      <td>[demographic, borough, cohort, total cohort, t...</td>\n",
       "      <td>2005 2010  graduation outcomes    by borough</td>\n",
       "      <td>dataset/2005-2010__Graduation_Outcomes_-__By_B...</td>\n",
       "    </tr>\n",
       "    <tr>\n",
       "      <th>10</th>\n",
       "      <td>[district, ytd % attendance (avg), ytd enrollm...</td>\n",
       "      <td>2010   2011 school attendance and enrollment s...</td>\n",
       "      <td>dataset/2010_-_2011_School_Attendance_and_Enro...</td>\n",
       "    </tr>\n",
       "  </tbody>\n",
       "</table>\n",
       "</div>"
      ],
      "text/plain": [
       "                                                 Cols  \\\n",
       "0                                        [unnamed: 0]   \n",
       "1   [dbn, school name, num of sat test takers, sat...   \n",
       "2   [vendor_formal_name, vendor_dba, contact_name,...   \n",
       "3   [cnbio_org_name, number and street, cnadrprf_a...   \n",
       "4   [dbn, name, schoolyear, fl_percent, frl_percen...   \n",
       "5   [company name, subindustry, sub subindustry, a...   \n",
       "6   [project name, project description, stimulus t...   \n",
       "7   [jurisdiction name, count participants, count ...   \n",
       "8   [dca license number, license type, license exp...   \n",
       "9   [demographic, borough, cohort, total cohort, t...   \n",
       "10  [district, ytd % attendance (avg), ytd enrollm...   \n",
       "\n",
       "                                                 Name  \\\n",
       "0                                                       \n",
       "1                                    2012 sat results   \n",
       "2         m wbe  lbe  and ebe certified business list   \n",
       "3                           lower manhattan retailers   \n",
       "4   2006   2012 school demographics and accountabi...   \n",
       "5                   times square entertainment venues   \n",
       "6                               federal stimulus data   \n",
       "7                          school district breakdowns   \n",
       "8                        legally operating businesses   \n",
       "9        2005 2010  graduation outcomes    by borough   \n",
       "10  2010   2011 school attendance and enrollment s...   \n",
       "\n",
       "                                            File Name  \n",
       "0                                   dataset/.DS_Store  \n",
       "1                        dataset/2012_SAT_Results.csv  \n",
       "2   dataset/M_WBE__LBE__and_EBE_Certified_Business...  \n",
       "3               dataset/Lower_Manhattan_Retailers.csv  \n",
       "4   dataset/2006_-_2012_School_Demographics_and_Ac...  \n",
       "5       dataset/Times_Square_Entertainment_Venues.csv  \n",
       "6                   dataset/Federal_Stimulus_Data.csv  \n",
       "7              dataset/School_District_Breakdowns.csv  \n",
       "8            dataset/Legally_Operating_Businesses.csv  \n",
       "9   dataset/2005-2010__Graduation_Outcomes_-__By_B...  \n",
       "10  dataset/2010_-_2011_School_Attendance_and_Enro...  "
      ]
     },
     "execution_count": 108,
     "metadata": {},
     "output_type": "execute_result"
    }
   ],
   "source": [
    "meta_df"
   ]
  },
  {
   "cell_type": "markdown",
   "metadata": {},
   "source": [
    "### TFIDF"
   ]
  },
  {
   "cell_type": "code",
   "execution_count": 98,
   "metadata": {},
   "outputs": [],
   "source": [
    "def search_dataset_sim(kw):\n",
    "    key_word = kw\n",
    "    meta_df_tfidf = meta_df.copy()\n",
    "    meta_df_tfidf = meta_df_tfidf.append({'Name':key_word, 'Cols':\"TBD\"}, ignore_index=True)\n",
    "    # meta_df_tfidf[\"Name\"] = [\"\".join(t) for t in meta_df_tfidf[\"Name\"]]\n",
    "\n",
    "    tfidf_vec = TfidfVectorizer(stop_words='english',ngram_range=(1,2))\n",
    "    cols_tfidf = tfidf_vec.fit_transform(meta_df_tfidf['Name'])\n",
    "    dense_mtx = cols_tfidf.todense()\n",
    "    v_k = cols_tfidf[-1,:].todense()\n",
    "    sim = []\n",
    "    for i in range(dense_mtx.shape[0] - 1):\n",
    "        v_i = cols_tfidf[i,:].todense()\n",
    "        sim.append(np.dot(v_i, v_k.T)[0,0])\n",
    "    indexs = np.argsort(sim)[-5:][::-1]\n",
    "    return meta_df_tfidf['File Name'][indexs]"
   ]
  },
  {
   "cell_type": "code",
   "execution_count": 101,
   "metadata": {},
   "outputs": [
    {
     "data": {
      "text/plain": [
       "7                dataset/School_District_Breakdowns.csv\n",
       "4     dataset/2006_-_2012_School_Demographics_and_Ac...\n",
       "10    dataset/2010_-_2011_School_Attendance_and_Enro...\n",
       "9     dataset/2005-2010__Graduation_Outcomes_-__By_B...\n",
       "8              dataset/Legally_Operating_Businesses.csv\n",
       "Name: File Name, dtype: object"
      ]
     },
     "execution_count": 101,
     "metadata": {},
     "output_type": "execute_result"
    }
   ],
   "source": [
    "search_dataset_sim(\"school\")"
   ]
  },
  {
   "cell_type": "markdown",
   "metadata": {},
   "source": [
    "### Inv Index"
   ]
  },
  {
   "cell_type": "code",
   "execution_count": 112,
   "metadata": {
    "collapsed": true
   },
   "outputs": [],
   "source": [
    "def column_inverted(DataFrame):\n",
    "    dict_col_inverted = defaultdict(list)\n",
    "    for ind, i in enumerate(meta_df[\"Cols\"]):\n",
    "        for j in i:\n",
    "            if j not in dict_col_inverted.keys():\n",
    "                dict_col_inverted[j] = meta_df[\"File Name\"][ind]\n",
    "            else:\n",
    "                dict_col_inverted[j]+=(meta_df[\"File Name\"][ind])\n",
    "    return dict_col_inverted"
   ]
  },
  {
   "cell_type": "code",
   "execution_count": 113,
   "metadata": {
    "collapsed": true
   },
   "outputs": [],
   "source": [
    "dict_col_inverted = column_inverted(meta_df)"
   ]
  },
  {
   "cell_type": "code",
   "execution_count": 114,
   "metadata": {
    "collapsed": true
   },
   "outputs": [],
   "source": [
    "def search_column_exa():\n",
    "    column_name = input(\"Please enter column name: \")\n",
    "    if column_name in dict_col_inverted:\n",
    "        datasets = dict_col_inverted[column_name]\n",
    "        return(datasets)\n",
    "    else:\n",
    "        return(\"Sorry, we can't find this column name in any dataset.\")"
   ]
  },
  {
   "cell_type": "code",
   "execution_count": 116,
   "metadata": {},
   "outputs": [
    {
     "name": "stdout",
     "output_type": "stream",
     "text": [
      "Please enter column name: schoolyear\n"
     ]
    },
    {
     "data": {
      "text/plain": [
       "'dataset/2006_-_2012_School_Demographics_and_Accountability_Snapshot.csv'"
      ]
     },
     "execution_count": 116,
     "metadata": {},
     "output_type": "execute_result"
    }
   ],
   "source": [
    "search_column_exa()"
   ]
  },
  {
   "cell_type": "code",
   "execution_count": null,
   "metadata": {
    "collapsed": true
   },
   "outputs": [],
   "source": []
  }
 ],
 "metadata": {
  "kernelspec": {
   "display_name": "Python 3",
   "language": "python",
   "name": "python3"
  },
  "language_info": {
   "codemirror_mode": {
    "name": "ipython",
    "version": 3
   },
   "file_extension": ".py",
   "mimetype": "text/x-python",
   "name": "python",
   "nbconvert_exporter": "python",
   "pygments_lexer": "ipython3",
   "version": "3.6.2"
  }
 },
 "nbformat": 4,
 "nbformat_minor": 2
}
